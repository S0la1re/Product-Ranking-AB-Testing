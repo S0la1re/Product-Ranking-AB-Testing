{
 "cells": [
  {
   "cell_type": "markdown",
   "metadata": {},
   "source": [
    "# Product Ranking Optimization | A/B Testing Project\n",
    "\n",
    "## Problem description\n",
    "Suppose that an online grocery store called “Rimi” wants to test a new ranking algorithm to provide products more relevant to customers.\n",
    "\n",
    "![user_funnel.drawio.png](images/rimi.png)"
   ]
  },
  {
   "cell_type": "markdown",
   "metadata": {},
   "source": [
    "## Methodology\n",
    "\n",
    "1. **Problem statement** - What is the goal of the experiment?\n",
    "    - Understanding the nature of the product\n",
    "    - Asking clarifying questions:\n",
    "        - What is the user journey?\n",
    "        - What is the success metric? It should be:\n",
    "            - Measurable\n",
    "            - Attributable\n",
    "            - Sensitive\n",
    "            - Timely\n",
    "2. **Hypothesis testing** - What result do you hypothesize from the experiment?\n",
    "    - Set up: \n",
    "        - Null hypothesis \n",
    "        - Alternative hypothesis \n",
    "        - Significance level\n",
    "        - Statistical power\n",
    "        - Minimum detectable effect (MDE)\n",
    "3. **Design the Experiment** - What are your experiment parameters?\n",
    "    - Determine:\n",
    "        - Randomization unit\n",
    "        - Target population in the experiment\n",
    "        - Sample size\n",
    "        - Duration of the experiment\n",
    "4. **Run the Experiment** - What are the requirements for running an experiment?\n",
    "    - Set up the necessary instrumentation to:\n",
    "        - Collect data \n",
    "        - Analyze the results\n",
    "    - Avoid peeking p-values\n",
    "5. **Validity Checks** - Did the experiment run soundly without errors or bias?\n",
    "    - Check for:\n",
    "        - Instrumentation Effect\n",
    "        - External Factors\n",
    "        - Selection Bias\n",
    "        - Sample Ratio Mismatch\n",
    "        - Novelty Effect\n",
    "6. **Interpret Results** - Is the observed change in the metric both statistically and practically significant?\n",
    "    - Assess the observed lift:\n",
    "        - P-value\n",
    "        - Confidence intervals\n",
    "7. **Launch Decision** - Based on the results and trade-offs, should the change be launched?\n",
    "    - Consider:\n",
    "        - Metric Trade-Offs\n",
    "        - Cost of Launching\n",
    "        - Risk of committing false positive (Type 1 Error)"
   ]
  },
  {
   "cell_type": "markdown",
   "metadata": {},
   "source": [
    "## Step 1 - Problem Statement\n",
    "\n",
    "### Understanding the Nature of the Product\n",
    "\n",
    "Rimi is an online grocery store that offers a wide range of products, including fresh produce, meat, dairy, baked goods, and more. The store uses a product ranking system or recommendation algorithm.\n",
    "\n",
    "When a user enters keywords such as \"meat\" or \"fruits,\" this algorithm generates a list of products that could be relevant to that customer, based on factors like their profile, purchase history, and other data.\n",
    "\n",
    "If we modify this ranking algorithm, the suggested products may become more relevant to customers, which in turn should **boost sales** for the online store.\n",
    "\n",
    "\n",
    "### User Journey \n",
    "\n",
    "![user_funnel.drawio.png](images/user_funnel.drawio.png)\n",
    "\n",
    "Considering the user journey is crucial because it helps determine key factors later on, such as defining the success metric, identifying the target user population, and deciding at which stage of the journey a user should be considered as a participant in the experiment."
   ]
  },
  {
   "cell_type": "markdown",
   "metadata": {},
   "source": [
    "### Define the Success Metric\n",
    "\n",
    "To define the success metric, we need to consider the folowing guiding princeples:\n",
    "1. **Measurable**\n",
    "    - Is it a type of user behavior that can be accurately captured through your instrumentation or platform?\n",
    "2. **Attributable**\n",
    "    - \"Attributable\" means establishing a clear link between the experiment and the observed changes in metrics.\n",
    "    - Example: If you are testing a new website design (treatment) and notice an increase in conversions (metric), for the result to be considered \"attributable,\" you need to be sure that the increase is specifically due to the design change, and not, for example, due to an increase in traffic or a marketing campaign that occurred during the same period.\n",
    "3. **Sensitive**\n",
    "    - A metric is considered \"sensitive\" if it is responsive enough to detect significant effects from the applied modification.\n",
    "    - You want to identify a metric with low variability to increase the likelihood of detecting true effects.\n",
    "4. **Timely**\n",
    "    - A/B experiments need to be very quick, it's a very iterative process as a way to improve the product very quickly.\n",
    "    - Therefore, consider what short-term behavior can serve as a proxy for the long-term desired behavior.\n",
    "\n",
    "\n",
    "Our success metric is **Average Revenue Per User (ARPU)**, which we aim to increase. However, it's crucial that this improvement does not come at the expense of the **Conversion Rate**, which should remain stable or improve.\n"
   ]
  },
  {
   "cell_type": "markdown",
   "metadata": {},
   "source": [
    "## Step 2 - Hypothesis testing\n",
    "\n",
    "\n",
    "### State the Hypothesis Statement\n",
    "\n",
    "**Null Hypothesis (H0)**: The average revenue per user (ARPU) between the old and new ranking algorithms is the same.\n",
    "\n",
    "**Alternative Hypothesis (Ha)**: The average revenue per user (ARPU) between the old and new ranking algorithms is different.\n",
    "\n",
    "\n",
    "\n",
    "### Set the Significance Level\n",
    "\n",
    "**Alpha** = 0.05 <br> \n",
    "- If the p-value is less than 0.05, reject H0 and conclude that Ha is true.\n",
    "\n",
    "\n",
    "\n",
    "### Set the Statistical Power\n",
    "\n",
    "**Statistical Power** = 0.8 <br> \n",
    "- Statistical power is the probability of detecting an effect if the alternative hypothesis is true.\n",
    "\n",
    "\n",
    "\n",
    "### Set the Minimum Detectable Effect (MDE)\n",
    "\n",
    "**MDE** = 3% <br> \n",
    "- If the change in ARPU is at least 3% or higher, it is considered practically significant."
   ]
  },
  {
   "cell_type": "markdown",
   "metadata": {},
   "source": [
    "## Step 3 - Design the Experiment\n",
    "\n",
    "### Set the Randomization Unit\n",
    "\n",
    "**Randomization Unit** = User <br>\n",
    "- This unit determines how participants are randomly assigned to groups (control and test) for the experiment. The individual user is the most common randomization unit, especially in digital A/B tests.\n",
    "\n",
    "\n",
    "### Target Population in the Experiment\n",
    "\n",
    "**Users** = Visitors who searches a product\n",
    "\n",
    "- ![user_funnel.drawio.png](images/user_funnel.drawio.png)\n",
    "\n",
    "\n",
    "### Determine the Sample Size\n",
    "\n",
    "As a rule of thumb, the following formula is often used for rough estimates:\n",
    "\n",
    "$$n \\approx \\frac{16\\sigma^2}{\\delta^2}$$ \n",
    "\n",
    "While the above formula can be useful for quick estimates, it is better to use more detailed methods for accurate results:\n",
    "\n",
    "$$n = \\frac{2(Z_{\\alpha/2} + Z_\\beta)^2 \\cdot \\sigma^2}{\\delta^2}$$\n",
    "- We can easily calculate this using Python and the `statsmodels` library.\n",
    "\n",
    "#### Formula Explanation\n",
    "- $n$ — This is the required sample size for each group (control and experimental).\n",
    "- $Z_{\\alpha/2}$ — This is the critical value of the normal distribution for the significance level ($\\alpha$). It is set as $\\alpha/2$ because we often use a two-tailed test. For example, for a significance level of 0.05, the value of $Z_{\\alpha/2}$ is approximately 1.96.\n",
    "- $Z_\\beta$ — This is the critical value for the test power ($\\beta$). For example, for a power of 0.8, the value of $Z_\\beta$  is approximately 0.84. The power of the test is the probability of detecting an effect if it exists, and it is commonly set at 80%.\n",
    "- $\\sigma$ — This is the variance (the square of the standard deviation) of your metric. In the case of comparing means, it represents how spread out the values of the metric are (e.g., Average Revenue Per User or ARPU).\n",
    "- $\\delta$ —  This is the minimum detectable effect (MDE). It is the difference between the means of the control and experimental groups that you want to detect. The smaller $\\delta$, the larger the sample size needed to accurately detect this difference.\n",
    "\n",
    "#### Assumptions\n",
    "Since we don’t have real data, we’ll estimate what it could look like based on industry averages.\n",
    "\n",
    "##### Estimating ARPU\n",
    "1. The average revenue per user (ARPU) in online grocery stores can vary significantly depending on how often customers place orders, their average basket size, and other factors.\n",
    "2. Typical industry data:\n",
    "    - ChatGPT suggests that ARPU for online grocery retailers often ranges from 20 to 100 euros, depending on the region and shopping frequency. The standard deviation ($\\sigma$), on average, can range from 20% to 50% of the average ARPU.\n",
    "3. Assumption:\n",
    "    - **Average ARPU** = 50 euros\n",
    "    - **Standard Deviation ($\\sigma$)** = 15 euros (which corresponds to 30% of the average).\n",
    "\n",
    "##### Estimating Conversion Rate\n",
    "1. The conversion rate for online grocery stores is the percentage of users who complete a purchase out of the total number of website visitors.\n",
    "2. Typical industry data:\n",
    "    - Based on ChatGPT’s response, on average, the conversion rate for online grocery stores can range from 2% to 5%. However, grocery stores have a certain specificity — if a customer visits with the intent to buy groceries, the conversion rate might be higher compared to apparel or electronics stores.\n",
    "    - For large retailers like Rimi, the conversion rate may be closer to the upper end of this range.\n",
    "3. Assumption:\n",
    "    - **Conversion rate**: 3-5% (which corresponds to the conversion rate for a typical online grocery store)."
   ]
  },
  {
   "cell_type": "markdown",
   "metadata": {},
   "source": [
    "#### Calculations"
   ]
  },
  {
   "cell_type": "code",
   "execution_count": 3,
   "metadata": {},
   "outputs": [
    {
     "data": {
      "text/plain": [
       "4361"
      ]
     },
     "execution_count": 3,
     "metadata": {},
     "output_type": "execute_result"
    }
   ],
   "source": [
    "from statsmodels.stats.power import TTestIndPower\n",
    "\n",
    "# Define the parameters\n",
    "alpha = 0.05  # significance level\n",
    "power = 0.8   # test power\n",
    "effect_size = 3 / 50  # MDE (3% of the mean ARPU, assuming ARPU is 50)\n",
    "std_dev = 15  # standard deviation of ARPU\n",
    "\n",
    "# Calculate the sample size\n",
    "sample_size = TTestIndPower().solve_power(effect_size=effect_size, \n",
    "                                          alpha=alpha, \n",
    "                                          power=power, \n",
    "                                          alternative='two-sided')\n",
    "\n",
    "# Rounding the sample size to the nearest integer\n",
    "sample_size = int(sample_size)\n",
    "\n",
    "sample_size"
   ]
  },
  {
   "cell_type": "markdown",
   "metadata": {},
   "source": [
    "### Duration of the Experiment\n",
    "\n",
    "**Duration** = 1 to 2 weeks\n",
    "\n",
    "\n",
    "---------\n",
    "\n",
    "**Average ARPU**: 50 EUR <br>\n",
    "**Standard deviation of ARPU**: 𝜎 = 15 <br>\n",
    "σ=15 EUR (presumably 30% of average ARPU)<br>\n",
    "**Conversion**: 3-5% (which corresponds to the conversion rate for a typical online grocery store)\n",
    "\n",
    "\n",
    "https://chatgpt.com/c/45501f5d-3cde-4532-ae5c-df61a7d0a207"
   ]
  }
 ],
 "metadata": {
  "kernelspec": {
   "display_name": "base",
   "language": "python",
   "name": "python3"
  },
  "language_info": {
   "codemirror_mode": {
    "name": "ipython",
    "version": 3
   },
   "file_extension": ".py",
   "mimetype": "text/x-python",
   "name": "python",
   "nbconvert_exporter": "python",
   "pygments_lexer": "ipython3",
   "version": "3.12.4"
  }
 },
 "nbformat": 4,
 "nbformat_minor": 2
}
